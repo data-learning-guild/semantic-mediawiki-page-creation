{
 "cells": [
  {
   "cell_type": "code",
   "execution_count": 171,
   "metadata": {},
   "outputs": [],
   "source": [
    "import spacy\n",
    "import ginza\n",
    "import re\n",
    "import pandas as pd\n",
    "from spacy import displacy\n",
    "from numpy import random as rd\n",
    "nlp = spacy.load('ja_ginza')"
   ]
  },
  {
   "cell_type": "code",
   "execution_count": 4,
   "metadata": {},
   "outputs": [
    {
     "output_type": "execute_result",
     "data": {
      "text/plain": [
       "       channel_id channel_name    reply_num    user_id  \\\n",
       "count        4055         4055  4055.000000       4055   \n",
       "unique          3            7          NaN        125   \n",
       "top     CJCNV9LG2      03-1-質問          NaN  UJRAL005U   \n",
       "freq         3512         2904          NaN       1042   \n",
       "first         NaN          NaN          NaN        NaN   \n",
       "last          NaN          NaN          NaN        NaN   \n",
       "mean          NaN          NaN     9.556843        NaN   \n",
       "std           NaN          NaN    10.773222        NaN   \n",
       "min           NaN          NaN     0.000000        NaN   \n",
       "25%           NaN          NaN     2.000000        NaN   \n",
       "50%           NaN          NaN     6.000000        NaN   \n",
       "75%           NaN          NaN    13.000000        NaN   \n",
       "max           NaN          NaN    74.000000        NaN   \n",
       "\n",
       "                        user_name reply_user_is_in_current  \\\n",
       "count                        4055                     4055   \n",
       "unique                        148                        2   \n",
       "top     村上智之　ｷﾞﾙﾄﾞ代表　筋ﾄﾚで学ぶﾃﾞｰﾀ分析                     True   \n",
       "freq                          533                     3337   \n",
       "first                         NaN                      NaN   \n",
       "last                          NaN                      NaN   \n",
       "mean                          NaN                      NaN   \n",
       "std                           NaN                      NaN   \n",
       "min                           NaN                      NaN   \n",
       "25%                           NaN                      NaN   \n",
       "50%                           NaN                      NaN   \n",
       "75%                           NaN                      NaN   \n",
       "max                           NaN                      NaN   \n",
       "\n",
       "                                     talk_id    talk_text  \\\n",
       "count                                   4055         4055   \n",
       "unique                                  4055         4049   \n",
       "top     c0c78c67-6429-4e2e-abe6-553e04788275  ありがとうございます。   \n",
       "freq                                       1            3   \n",
       "first                                    NaN          NaN   \n",
       "last                                     NaN          NaN   \n",
       "mean                                     NaN          NaN   \n",
       "std                                      NaN          NaN   \n",
       "min                                      NaN          NaN   \n",
       "25%                                      NaN          NaN   \n",
       "50%                                      NaN          NaN   \n",
       "75%                                      NaN          NaN   \n",
       "max                                      NaN          NaN   \n",
       "\n",
       "                                 talk_ts                         thread_ts  \\\n",
       "count                               4055                              4055   \n",
       "unique                              4055                               503   \n",
       "top     2020-01-16 00:30:11.320200+00:00  2020-05-28 11:52:22.347600+00:00   \n",
       "freq                                   1                                75   \n",
       "first   2019-06-30 12:34:22.004200+00:00  2019-06-30 12:34:22.004200+00:00   \n",
       "last    2020-10-26 14:06:12.061700+00:00  2020-10-26 10:08:41.065800+00:00   \n",
       "mean                                 NaN                               NaN   \n",
       "std                                  NaN                               NaN   \n",
       "min                                  NaN                               NaN   \n",
       "25%                                  NaN                               NaN   \n",
       "50%                                  NaN                               NaN   \n",
       "75%                                  NaN                               NaN   \n",
       "max                                  NaN                               NaN   \n",
       "\n",
       "                target_date  \n",
       "count                  4055  \n",
       "unique                  329  \n",
       "top     2020-01-25 00:00:00  \n",
       "freq                     78  \n",
       "first   2019-07-01 00:00:00  \n",
       "last    2020-10-27 00:00:00  \n",
       "mean                    NaN  \n",
       "std                     NaN  \n",
       "min                     NaN  \n",
       "25%                     NaN  \n",
       "50%                     NaN  \n",
       "75%                     NaN  \n",
       "max                     NaN  "
      ],
      "text/html": "<div>\n<style scoped>\n    .dataframe tbody tr th:only-of-type {\n        vertical-align: middle;\n    }\n\n    .dataframe tbody tr th {\n        vertical-align: top;\n    }\n\n    .dataframe thead th {\n        text-align: right;\n    }\n</style>\n<table border=\"1\" class=\"dataframe\">\n  <thead>\n    <tr style=\"text-align: right;\">\n      <th></th>\n      <th>channel_id</th>\n      <th>channel_name</th>\n      <th>reply_num</th>\n      <th>user_id</th>\n      <th>user_name</th>\n      <th>reply_user_is_in_current</th>\n      <th>talk_id</th>\n      <th>talk_text</th>\n      <th>talk_ts</th>\n      <th>thread_ts</th>\n      <th>target_date</th>\n    </tr>\n  </thead>\n  <tbody>\n    <tr>\n      <th>count</th>\n      <td>4055</td>\n      <td>4055</td>\n      <td>4055.000000</td>\n      <td>4055</td>\n      <td>4055</td>\n      <td>4055</td>\n      <td>4055</td>\n      <td>4055</td>\n      <td>4055</td>\n      <td>4055</td>\n      <td>4055</td>\n    </tr>\n    <tr>\n      <th>unique</th>\n      <td>3</td>\n      <td>7</td>\n      <td>NaN</td>\n      <td>125</td>\n      <td>148</td>\n      <td>2</td>\n      <td>4055</td>\n      <td>4049</td>\n      <td>4055</td>\n      <td>503</td>\n      <td>329</td>\n    </tr>\n    <tr>\n      <th>top</th>\n      <td>CJCNV9LG2</td>\n      <td>03-1-質問</td>\n      <td>NaN</td>\n      <td>UJRAL005U</td>\n      <td>村上智之　ｷﾞﾙﾄﾞ代表　筋ﾄﾚで学ぶﾃﾞｰﾀ分析</td>\n      <td>True</td>\n      <td>c0c78c67-6429-4e2e-abe6-553e04788275</td>\n      <td>ありがとうございます。</td>\n      <td>2020-01-16 00:30:11.320200+00:00</td>\n      <td>2020-05-28 11:52:22.347600+00:00</td>\n      <td>2020-01-25 00:00:00</td>\n    </tr>\n    <tr>\n      <th>freq</th>\n      <td>3512</td>\n      <td>2904</td>\n      <td>NaN</td>\n      <td>1042</td>\n      <td>533</td>\n      <td>3337</td>\n      <td>1</td>\n      <td>3</td>\n      <td>1</td>\n      <td>75</td>\n      <td>78</td>\n    </tr>\n    <tr>\n      <th>first</th>\n      <td>NaN</td>\n      <td>NaN</td>\n      <td>NaN</td>\n      <td>NaN</td>\n      <td>NaN</td>\n      <td>NaN</td>\n      <td>NaN</td>\n      <td>NaN</td>\n      <td>2019-06-30 12:34:22.004200+00:00</td>\n      <td>2019-06-30 12:34:22.004200+00:00</td>\n      <td>2019-07-01 00:00:00</td>\n    </tr>\n    <tr>\n      <th>last</th>\n      <td>NaN</td>\n      <td>NaN</td>\n      <td>NaN</td>\n      <td>NaN</td>\n      <td>NaN</td>\n      <td>NaN</td>\n      <td>NaN</td>\n      <td>NaN</td>\n      <td>2020-10-26 14:06:12.061700+00:00</td>\n      <td>2020-10-26 10:08:41.065800+00:00</td>\n      <td>2020-10-27 00:00:00</td>\n    </tr>\n    <tr>\n      <th>mean</th>\n      <td>NaN</td>\n      <td>NaN</td>\n      <td>9.556843</td>\n      <td>NaN</td>\n      <td>NaN</td>\n      <td>NaN</td>\n      <td>NaN</td>\n      <td>NaN</td>\n      <td>NaN</td>\n      <td>NaN</td>\n      <td>NaN</td>\n    </tr>\n    <tr>\n      <th>std</th>\n      <td>NaN</td>\n      <td>NaN</td>\n      <td>10.773222</td>\n      <td>NaN</td>\n      <td>NaN</td>\n      <td>NaN</td>\n      <td>NaN</td>\n      <td>NaN</td>\n      <td>NaN</td>\n      <td>NaN</td>\n      <td>NaN</td>\n    </tr>\n    <tr>\n      <th>min</th>\n      <td>NaN</td>\n      <td>NaN</td>\n      <td>0.000000</td>\n      <td>NaN</td>\n      <td>NaN</td>\n      <td>NaN</td>\n      <td>NaN</td>\n      <td>NaN</td>\n      <td>NaN</td>\n      <td>NaN</td>\n      <td>NaN</td>\n    </tr>\n    <tr>\n      <th>25%</th>\n      <td>NaN</td>\n      <td>NaN</td>\n      <td>2.000000</td>\n      <td>NaN</td>\n      <td>NaN</td>\n      <td>NaN</td>\n      <td>NaN</td>\n      <td>NaN</td>\n      <td>NaN</td>\n      <td>NaN</td>\n      <td>NaN</td>\n    </tr>\n    <tr>\n      <th>50%</th>\n      <td>NaN</td>\n      <td>NaN</td>\n      <td>6.000000</td>\n      <td>NaN</td>\n      <td>NaN</td>\n      <td>NaN</td>\n      <td>NaN</td>\n      <td>NaN</td>\n      <td>NaN</td>\n      <td>NaN</td>\n      <td>NaN</td>\n    </tr>\n    <tr>\n      <th>75%</th>\n      <td>NaN</td>\n      <td>NaN</td>\n      <td>13.000000</td>\n      <td>NaN</td>\n      <td>NaN</td>\n      <td>NaN</td>\n      <td>NaN</td>\n      <td>NaN</td>\n      <td>NaN</td>\n      <td>NaN</td>\n      <td>NaN</td>\n    </tr>\n    <tr>\n      <th>max</th>\n      <td>NaN</td>\n      <td>NaN</td>\n      <td>74.000000</td>\n      <td>NaN</td>\n      <td>NaN</td>\n      <td>NaN</td>\n      <td>NaN</td>\n      <td>NaN</td>\n      <td>NaN</td>\n      <td>NaN</td>\n      <td>NaN</td>\n    </tr>\n  </tbody>\n</table>\n</div>"
     },
     "metadata": {},
     "execution_count": 4
    }
   ],
   "source": [
    "df = pd.read_csv('../csv/question_talk_data.csv', parse_dates='talk_ts thread_ts target_date'.split())\n",
    "df.describe(include='all')"
   ]
  },
  {
   "cell_type": "code",
   "execution_count": 228,
   "metadata": {},
   "outputs": [],
   "source": [
    "unique_thread_ts_array = df.thread_ts.unique()"
   ]
  },
  {
   "cell_type": "code",
   "execution_count": 262,
   "metadata": {},
   "outputs": [],
   "source": [
    "# txt = '\\n'.join(df.talk_text[0:10].tolist())\n",
    "rd_idx = rd.randint(len(df.talk_text))\n",
    "txt = df.talk_text.tolist()[rd_idx]\n"
   ]
  },
  {
   "cell_type": "code",
   "execution_count": 268,
   "metadata": {},
   "outputs": [],
   "source": [
    "retxt = re.sub(r'<@.+>|\\n|', '', txt)\n",
    "doc = nlp(retxt)\n",
    "ginza.set_split_mode(nlp, \"C\")"
   ]
  },
  {
   "cell_type": "code",
   "execution_count": 269,
   "metadata": {},
   "outputs": [],
   "source": [
    "exc_pos_list = 'ADP VERB AUX SCONJ PART PUNCT SPACE PRON ADV SYM ADJ DET NUM INTJ'.split()"
   ]
  },
  {
   "cell_type": "code",
   "execution_count": 270,
   "metadata": {},
   "outputs": [],
   "source": [
    "result_list = []\n",
    "for sent in doc.sents:\n",
    "    result_list = result_list + [[str(token.i), token.text, token.lemma_, token.pos_, token.tag_] for token in sent]\n",
    "df_result = pd.DataFrame(result_list, columns = 'token_no text lemma pos tag'.split())"
   ]
  },
  {
   "cell_type": "code",
   "execution_count": 271,
   "metadata": {},
   "outputs": [
    {
     "output_type": "execute_result",
     "data": {
      "text/plain": [
       "'最適化について質問させてください！組み合わせ最適化（もしフォーカスしたものがあれば配車配送計画問題）について、①概念／知識習得系②初学者向け実装課題で何かおすすめ（本、オンライン講座、記事等何でも）があれば教えていただきたいです！目的意識としては、①見つける②解く③使わせるのうち、主に①でビジネス課題から問題設計へ落とし込める／目処感がつく、というところをイメージしてます。'"
      ]
     },
     "metadata": {},
     "execution_count": 271
    }
   ],
   "source": [
    "retxt"
   ]
  },
  {
   "cell_type": "code",
   "execution_count": 272,
   "metadata": {},
   "outputs": [
    {
     "output_type": "execute_result",
     "data": {
      "text/plain": [
       "    token_no   text  lemma   pos           tag\n",
       "0          0    最適化    最適化  NOUN    名詞-普通名詞-一般\n",
       "10        10  組み合わせ  組み合わせ  NOUN    名詞-普通名詞-一般\n",
       "11        11    最適化    最適化  NOUN    名詞-普通名詞-一般\n",
       "17        17     もの     もの  NOUN  名詞-普通名詞-サ変可能\n",
       "21        21     配車     配車  NOUN  名詞-普通名詞-サ変可能\n",
       "22        22     配送     配送  NOUN  名詞-普通名詞-サ変可能\n",
       "23        23     計画     計画  NOUN  名詞-普通名詞-サ変可能\n",
       "24        24     問題     問題  NOUN    名詞-普通名詞-一般\n",
       "31        31     概念     概念  NOUN    名詞-普通名詞-一般\n",
       "33        33     知識     知識  NOUN    名詞-普通名詞-一般\n",
       "34        34     習得     習得  NOUN  名詞-普通名詞-サ変可能\n",
       "35        35      系      系  NOUN    接尾辞-名詞的-一般\n",
       "37        37     初学     初学  NOUN    名詞-普通名詞-一般\n",
       "38        38      者      者  NOUN    接尾辞-名詞的-一般\n",
       "39        39     向け     向け  NOUN    接尾辞-名詞的-一般\n",
       "40        40     実装     実装  NOUN  名詞-普通名詞-サ変可能\n",
       "41        41     課題     課題  NOUN    名詞-普通名詞-一般\n",
       "45        45   おすすめ   おすすめ  NOUN  名詞-普通名詞-サ変可能\n",
       "47        47      本      本  NOUN    名詞-普通名詞-一般\n",
       "49        49  オンライン  オンライン  NOUN    名詞-普通名詞-一般\n",
       "50        50     講座     講座  NOUN    名詞-普通名詞-一般\n",
       "52        52     記事     記事  NOUN    名詞-普通名詞-一般\n",
       "53        53      等      等  NOUN    接尾辞-名詞的-一般\n",
       "67        67     目的     目的  NOUN    名詞-普通名詞-一般\n",
       "68        68     意識     意識  NOUN  名詞-普通名詞-サ変可能\n",
       "82        82     うち     うち  NOUN  名詞-普通名詞-副詞可能\n",
       "87        87   ビジネス   ビジネス  NOUN    名詞-普通名詞-一般\n",
       "88        88     課題     課題  NOUN    名詞-普通名詞-一般\n",
       "90        90     問題     問題  NOUN    名詞-普通名詞-一般\n",
       "91        91     設計     設計  NOUN  名詞-普通名詞-サ変可能\n",
       "95        95     目処     目処  NOUN    名詞-普通名詞-一般\n",
       "96        96      感      感  NOUN    名詞-普通名詞-一般\n",
       "102      102    ところ    ところ  NOUN  名詞-普通名詞-副詞可能"
      ],
      "text/html": "<div>\n<style scoped>\n    .dataframe tbody tr th:only-of-type {\n        vertical-align: middle;\n    }\n\n    .dataframe tbody tr th {\n        vertical-align: top;\n    }\n\n    .dataframe thead th {\n        text-align: right;\n    }\n</style>\n<table border=\"1\" class=\"dataframe\">\n  <thead>\n    <tr style=\"text-align: right;\">\n      <th></th>\n      <th>token_no</th>\n      <th>text</th>\n      <th>lemma</th>\n      <th>pos</th>\n      <th>tag</th>\n    </tr>\n  </thead>\n  <tbody>\n    <tr>\n      <th>0</th>\n      <td>0</td>\n      <td>最適化</td>\n      <td>最適化</td>\n      <td>NOUN</td>\n      <td>名詞-普通名詞-一般</td>\n    </tr>\n    <tr>\n      <th>10</th>\n      <td>10</td>\n      <td>組み合わせ</td>\n      <td>組み合わせ</td>\n      <td>NOUN</td>\n      <td>名詞-普通名詞-一般</td>\n    </tr>\n    <tr>\n      <th>11</th>\n      <td>11</td>\n      <td>最適化</td>\n      <td>最適化</td>\n      <td>NOUN</td>\n      <td>名詞-普通名詞-一般</td>\n    </tr>\n    <tr>\n      <th>17</th>\n      <td>17</td>\n      <td>もの</td>\n      <td>もの</td>\n      <td>NOUN</td>\n      <td>名詞-普通名詞-サ変可能</td>\n    </tr>\n    <tr>\n      <th>21</th>\n      <td>21</td>\n      <td>配車</td>\n      <td>配車</td>\n      <td>NOUN</td>\n      <td>名詞-普通名詞-サ変可能</td>\n    </tr>\n    <tr>\n      <th>22</th>\n      <td>22</td>\n      <td>配送</td>\n      <td>配送</td>\n      <td>NOUN</td>\n      <td>名詞-普通名詞-サ変可能</td>\n    </tr>\n    <tr>\n      <th>23</th>\n      <td>23</td>\n      <td>計画</td>\n      <td>計画</td>\n      <td>NOUN</td>\n      <td>名詞-普通名詞-サ変可能</td>\n    </tr>\n    <tr>\n      <th>24</th>\n      <td>24</td>\n      <td>問題</td>\n      <td>問題</td>\n      <td>NOUN</td>\n      <td>名詞-普通名詞-一般</td>\n    </tr>\n    <tr>\n      <th>31</th>\n      <td>31</td>\n      <td>概念</td>\n      <td>概念</td>\n      <td>NOUN</td>\n      <td>名詞-普通名詞-一般</td>\n    </tr>\n    <tr>\n      <th>33</th>\n      <td>33</td>\n      <td>知識</td>\n      <td>知識</td>\n      <td>NOUN</td>\n      <td>名詞-普通名詞-一般</td>\n    </tr>\n    <tr>\n      <th>34</th>\n      <td>34</td>\n      <td>習得</td>\n      <td>習得</td>\n      <td>NOUN</td>\n      <td>名詞-普通名詞-サ変可能</td>\n    </tr>\n    <tr>\n      <th>35</th>\n      <td>35</td>\n      <td>系</td>\n      <td>系</td>\n      <td>NOUN</td>\n      <td>接尾辞-名詞的-一般</td>\n    </tr>\n    <tr>\n      <th>37</th>\n      <td>37</td>\n      <td>初学</td>\n      <td>初学</td>\n      <td>NOUN</td>\n      <td>名詞-普通名詞-一般</td>\n    </tr>\n    <tr>\n      <th>38</th>\n      <td>38</td>\n      <td>者</td>\n      <td>者</td>\n      <td>NOUN</td>\n      <td>接尾辞-名詞的-一般</td>\n    </tr>\n    <tr>\n      <th>39</th>\n      <td>39</td>\n      <td>向け</td>\n      <td>向け</td>\n      <td>NOUN</td>\n      <td>接尾辞-名詞的-一般</td>\n    </tr>\n    <tr>\n      <th>40</th>\n      <td>40</td>\n      <td>実装</td>\n      <td>実装</td>\n      <td>NOUN</td>\n      <td>名詞-普通名詞-サ変可能</td>\n    </tr>\n    <tr>\n      <th>41</th>\n      <td>41</td>\n      <td>課題</td>\n      <td>課題</td>\n      <td>NOUN</td>\n      <td>名詞-普通名詞-一般</td>\n    </tr>\n    <tr>\n      <th>45</th>\n      <td>45</td>\n      <td>おすすめ</td>\n      <td>おすすめ</td>\n      <td>NOUN</td>\n      <td>名詞-普通名詞-サ変可能</td>\n    </tr>\n    <tr>\n      <th>47</th>\n      <td>47</td>\n      <td>本</td>\n      <td>本</td>\n      <td>NOUN</td>\n      <td>名詞-普通名詞-一般</td>\n    </tr>\n    <tr>\n      <th>49</th>\n      <td>49</td>\n      <td>オンライン</td>\n      <td>オンライン</td>\n      <td>NOUN</td>\n      <td>名詞-普通名詞-一般</td>\n    </tr>\n    <tr>\n      <th>50</th>\n      <td>50</td>\n      <td>講座</td>\n      <td>講座</td>\n      <td>NOUN</td>\n      <td>名詞-普通名詞-一般</td>\n    </tr>\n    <tr>\n      <th>52</th>\n      <td>52</td>\n      <td>記事</td>\n      <td>記事</td>\n      <td>NOUN</td>\n      <td>名詞-普通名詞-一般</td>\n    </tr>\n    <tr>\n      <th>53</th>\n      <td>53</td>\n      <td>等</td>\n      <td>等</td>\n      <td>NOUN</td>\n      <td>接尾辞-名詞的-一般</td>\n    </tr>\n    <tr>\n      <th>67</th>\n      <td>67</td>\n      <td>目的</td>\n      <td>目的</td>\n      <td>NOUN</td>\n      <td>名詞-普通名詞-一般</td>\n    </tr>\n    <tr>\n      <th>68</th>\n      <td>68</td>\n      <td>意識</td>\n      <td>意識</td>\n      <td>NOUN</td>\n      <td>名詞-普通名詞-サ変可能</td>\n    </tr>\n    <tr>\n      <th>82</th>\n      <td>82</td>\n      <td>うち</td>\n      <td>うち</td>\n      <td>NOUN</td>\n      <td>名詞-普通名詞-副詞可能</td>\n    </tr>\n    <tr>\n      <th>87</th>\n      <td>87</td>\n      <td>ビジネス</td>\n      <td>ビジネス</td>\n      <td>NOUN</td>\n      <td>名詞-普通名詞-一般</td>\n    </tr>\n    <tr>\n      <th>88</th>\n      <td>88</td>\n      <td>課題</td>\n      <td>課題</td>\n      <td>NOUN</td>\n      <td>名詞-普通名詞-一般</td>\n    </tr>\n    <tr>\n      <th>90</th>\n      <td>90</td>\n      <td>問題</td>\n      <td>問題</td>\n      <td>NOUN</td>\n      <td>名詞-普通名詞-一般</td>\n    </tr>\n    <tr>\n      <th>91</th>\n      <td>91</td>\n      <td>設計</td>\n      <td>設計</td>\n      <td>NOUN</td>\n      <td>名詞-普通名詞-サ変可能</td>\n    </tr>\n    <tr>\n      <th>95</th>\n      <td>95</td>\n      <td>目処</td>\n      <td>目処</td>\n      <td>NOUN</td>\n      <td>名詞-普通名詞-一般</td>\n    </tr>\n    <tr>\n      <th>96</th>\n      <td>96</td>\n      <td>感</td>\n      <td>感</td>\n      <td>NOUN</td>\n      <td>名詞-普通名詞-一般</td>\n    </tr>\n    <tr>\n      <th>102</th>\n      <td>102</td>\n      <td>ところ</td>\n      <td>ところ</td>\n      <td>NOUN</td>\n      <td>名詞-普通名詞-副詞可能</td>\n    </tr>\n  </tbody>\n</table>\n</div>"
     },
     "metadata": {},
     "execution_count": 272
    }
   ],
   "source": [
    "df_result[(df_result.pos == 'NOUN')|(df_result.pos == 'PROPN')]"
   ]
  },
  {
   "cell_type": "code",
   "execution_count": 237,
   "metadata": {},
   "outputs": [
    {
     "output_type": "execute_result",
     "data": {
      "text/plain": [
       "     token_no   text  lemma    pos           tag\n",
       "0           0     みな     みな   NOUN  名詞-普通名詞-副詞可能\n",
       "1           1     さま     さま   NOUN    接尾辞-名詞的-一般\n",
       "2           2      、      、  PUNCT       補助記号-読点\n",
       "3           3    はじめ   はじめる   VERB      動詞-非自立可能\n",
       "4           4     まし     ます    AUX           助動詞\n",
       "...       ...    ...    ...    ...           ...\n",
       "3342     3342      ！      !  PUNCT       補助記号-句点\n",
       "3343     3343  ありがとう  ありがとう   INTJ        感動詞-一般\n",
       "3344     3344    ござい    ござる    AUX      動詞-非自立可能\n",
       "3345     3345     ます     ます    AUX           助動詞\n",
       "3346     3346      ！      !  PUNCT       補助記号-句点\n",
       "\n",
       "[3347 rows x 5 columns]"
      ],
      "text/html": "<div>\n<style scoped>\n    .dataframe tbody tr th:only-of-type {\n        vertical-align: middle;\n    }\n\n    .dataframe tbody tr th {\n        vertical-align: top;\n    }\n\n    .dataframe thead th {\n        text-align: right;\n    }\n</style>\n<table border=\"1\" class=\"dataframe\">\n  <thead>\n    <tr style=\"text-align: right;\">\n      <th></th>\n      <th>token_no</th>\n      <th>text</th>\n      <th>lemma</th>\n      <th>pos</th>\n      <th>tag</th>\n    </tr>\n  </thead>\n  <tbody>\n    <tr>\n      <th>0</th>\n      <td>0</td>\n      <td>みな</td>\n      <td>みな</td>\n      <td>NOUN</td>\n      <td>名詞-普通名詞-副詞可能</td>\n    </tr>\n    <tr>\n      <th>1</th>\n      <td>1</td>\n      <td>さま</td>\n      <td>さま</td>\n      <td>NOUN</td>\n      <td>接尾辞-名詞的-一般</td>\n    </tr>\n    <tr>\n      <th>2</th>\n      <td>2</td>\n      <td>、</td>\n      <td>、</td>\n      <td>PUNCT</td>\n      <td>補助記号-読点</td>\n    </tr>\n    <tr>\n      <th>3</th>\n      <td>3</td>\n      <td>はじめ</td>\n      <td>はじめる</td>\n      <td>VERB</td>\n      <td>動詞-非自立可能</td>\n    </tr>\n    <tr>\n      <th>4</th>\n      <td>4</td>\n      <td>まし</td>\n      <td>ます</td>\n      <td>AUX</td>\n      <td>助動詞</td>\n    </tr>\n    <tr>\n      <th>...</th>\n      <td>...</td>\n      <td>...</td>\n      <td>...</td>\n      <td>...</td>\n      <td>...</td>\n    </tr>\n    <tr>\n      <th>3342</th>\n      <td>3342</td>\n      <td>！</td>\n      <td>!</td>\n      <td>PUNCT</td>\n      <td>補助記号-句点</td>\n    </tr>\n    <tr>\n      <th>3343</th>\n      <td>3343</td>\n      <td>ありがとう</td>\n      <td>ありがとう</td>\n      <td>INTJ</td>\n      <td>感動詞-一般</td>\n    </tr>\n    <tr>\n      <th>3344</th>\n      <td>3344</td>\n      <td>ござい</td>\n      <td>ござる</td>\n      <td>AUX</td>\n      <td>動詞-非自立可能</td>\n    </tr>\n    <tr>\n      <th>3345</th>\n      <td>3345</td>\n      <td>ます</td>\n      <td>ます</td>\n      <td>AUX</td>\n      <td>助動詞</td>\n    </tr>\n    <tr>\n      <th>3346</th>\n      <td>3346</td>\n      <td>！</td>\n      <td>!</td>\n      <td>PUNCT</td>\n      <td>補助記号-句点</td>\n    </tr>\n  </tbody>\n</table>\n<p>3347 rows × 5 columns</p>\n</div>"
     },
     "metadata": {},
     "execution_count": 237
    }
   ],
   "source": [
    "df_result"
   ]
  },
  {
   "cell_type": "code",
   "execution_count": 109,
   "metadata": {
    "tags": []
   },
   "outputs": [
    {
     "output_type": "stream",
     "name": "stdout",
     "text": [
      "この DET [0. 0.]\nライブラリ NOUN [0. 0.]\nの ADP [-0.08274004 -0.09103364]\nこと NOUN [-0.06522503 -0.15728047]\nは ADP [-0.05035316 -0.15731327]\nわかり VERB [0. 0.]\nませ AUX [0. 0.]\nん AUX [ 0.06475195 -0.09768624]\nが SCONJ [-0.05846101 -0.1564513 ]\n、 PUNCT [-0.01421653 -0.1027064 ]\nCSS NOUN [-0.19471441 -0.14235803]\nセレクタ NOUN [0. 0.]\nと ADP [-0.07328872 -0.11246356]\nし VERB [ 0.00739705 -0.32393304]\nて SCONJ [-0.06049706 -0.15483096]\n\n SPACE [0. 0.]\n` SYM [0. 0.]\ndiv. NOUN [0. 0.]\npost NOUN [0. 0.]\n- SYM [-0.14531925  0.01315168]\nheader NOUN [0. 0.]\na NOUN [ 0.20250995 -0.06554173]\n: SYM [0. 0.]\n: SYM [0. 0.]\nattr NOUN [0. 0.]\n( PUNCT [0. 0.]\nhref NOUN [0. 0.]\n) PUNCT [0. 0.]\n` SYM [0. 0.]\n\n SPACE [0. 0.]\nを ADP [-0.19509408 -0.13202968]\n見る VERB [-0.04286789 -0.01077815]\nと SCONJ [-0.07328872 -0.11246356]\n、 PUNCT [-0.01421653 -0.1027064 ]\n\n SPACE [0. 0.]\n` SYM [0. 0.]\nclass PROPN [0. 0.]\n= SYM [0. 0.]\n\" SYM [0. 0.]\npost NOUN [0. 0.]\n- SYM [-0.14531925  0.01315168]\nheader NOUN [0. 0.]\n\" SYM [0. 0.]\n` SYM [0. 0.]\nが ADP [-0.05846101 -0.1564513 ]\nつい VERB [-0.08438794 -0.20787737]\nて SCONJ [-0.06049706 -0.15483096]\nいる AUX [-0.19849487 -0.37518144]\ndiv NOUN [0. 0.]\n要素 NOUN [-0.05478342 -0.21344507]\nの ADP [-0.08274004 -0.09103364]\n中 NOUN [ 0.06662997 -0.05182621]\nに ADP [-0.07317045 -0.11314128]\n含ま VERB [0. 0.]\nれる AUX [ 0.03338669 -0.1096535 ]\na NOUN [ 0.20250995 -0.06554173]\n要素 NOUN [-0.05478342 -0.21344507]\nに ADP [-0.07317045 -0.11314128]\nある VERB [0. 0.]\nhref NOUN [0. 0.]\nの ADP [-0.08274004 -0.09103364]\n値 NOUN [-0.3642289  -0.23202941]\n（ PUNCT [0.06900107 0.01520115]\n` SYM [0. 0.]\n& SYM [0.03150539 0.04773864]\nlt NOUN [0. 0.]\n; SYM [0. 0.]\na NOUN [ 0.20250995 -0.06554173]\nhref NOUN [0. 0.]\n= SYM [0. 0.]\n“ PUNCT [-0.22551884 -0.10924301]\n. PUNCT [-0.0524614 -0.2441811]\n. PUNCT [-0.0524614 -0.2441811]\n. PUNCT [-0.0524614 -0.2441811]\n“ PUNCT [-0.22551884 -0.10924301]\n` SYM [0. 0.]\nの ADP [-0.08274004 -0.09103364]\n` SYM [0. 0.]\n... SYM [0. 0.]\n` SYM [0. 0.]\nの ADP [-0.08274004 -0.09103364]\n部分 NOUN [ 0.11726877 -0.15347722]\n） PUNCT [0.09575108 0.02053439]\nを ADP [-0.19509408 -0.13202968]\n取得 VERB [-0.41516936 -0.19681293]\nする AUX [-0.08889125 -0.13394208]\nと ADP [-0.07328872 -0.11246356]\nいう VERB [0. 0.]\nこと NOUN [-0.06522503 -0.15728047]\nか PART [-0.10983511 -0.1689055 ]\nと ADP [-0.07328872 -0.11246356]\n思い VERB [ 0.11313772 -0.23207049]\nまし AUX [0. 0.]\nた AUX [-0.03423065 -0.15928707]\n。 PUNCT [ 0.12551211 -0.1708449 ]\n"
     ]
    }
   ],
   "source": [
    "for token in doc:\n",
    "    print(token.text, token.pos_, token.vector[:2]) "
   ]
  },
  {
   "cell_type": "code",
   "execution_count": 63,
   "metadata": {},
   "outputs": [
    {
     "output_type": "stream",
     "name": "stdout",
     "text": [
      "AIC 9 12 Doctrine_Method_Other\nAIC 65 68 Doctrine_Method_Other\nd=0 105 108 Percent\nd=1 154 157 Ordinal_Number\nAIC 175 178 Doctrine_Method_Other\nAIC 206 209 Doctrine_Method_Other\nAIC 256 259 Doctrine_Method_Other\n"
     ]
    }
   ],
   "source": [
    "for ent in doc.ents:\n",
    "    print(ent.text, ent.start_char, ent.end_char, ent.label_)"
   ]
  },
  {
   "cell_type": "code",
   "execution_count": 67,
   "metadata": {},
   "outputs": [
    {
     "output_type": "execute_result",
     "data": {
      "text/plain": [
       "5"
      ]
     },
     "metadata": {},
     "execution_count": 67
    }
   ],
   "source": [
    "len(list(doc.sents))"
   ]
  },
  {
   "cell_type": "code",
   "execution_count": 9,
   "metadata": {},
   "outputs": [
    {
     "output_type": "display_data",
     "data": {
      "text/plain": "<IPython.core.display.HTML object>",
      "text/html": "<span class=\"tex2jax_ignore\"><div class=\"entities\" style=\"line-height: 2.5; direction: ltr\">時系列予測における\n<mark class=\"entity\" style=\"background: #ddd; padding: 0.45em 0.6em; margin: 0 0.25em; line-height: 1; border-radius: 0.35em;\">\n    AIC\n    <span style=\"font-size: 0.8em; font-weight: bold; line-height: 1; border-radius: 0.35em; text-transform: uppercase; vertical-align: middle; margin-left: 0.5rem\">Doctrine_Method_Other</span>\n</mark>\nは普通どれほど重要視すべきなのでしょうか。</br></br>とあるデータセットにてSARIMAで時系列予測をしようとし、\n<mark class=\"entity\" style=\"background: #ddd; padding: 0.45em 0.6em; margin: 0 0.25em; line-height: 1; border-radius: 0.35em;\">\n    AIC\n    <span style=\"font-size: 0.8em; font-weight: bold; line-height: 1; border-radius: 0.35em; text-transform: uppercase; vertical-align: middle; margin-left: 0.5rem\">Doctrine_Method_Other</span>\n</mark>\n（赤池情報量基準）にてパラメタ決定しようとしたのですが、結果が単位根なし（\n<mark class=\"entity\" style=\"background: #3385ff; padding: 0.45em 0.6em; margin: 0 0.25em; line-height: 1; border-radius: 0.35em;\">\n    d=0\n    <span style=\"font-size: 0.8em; font-weight: bold; line-height: 1; border-radius: 0.35em; text-transform: uppercase; vertical-align: middle; margin-left: 0.5rem\">Percent</span>\n</mark>\n）のパラメタが最適と出ました。</br>どう見ても差分を取ったグラフの方が定常に近いので単位根あり（\n<mark class=\"entity\" style=\"background: #3385ff; padding: 0.45em 0.6em; margin: 0 0.25em; line-height: 1; border-radius: 0.35em;\">\n    d=1\n    <span style=\"font-size: 0.8em; font-weight: bold; line-height: 1; border-radius: 0.35em; text-transform: uppercase; vertical-align: middle; margin-left: 0.5rem\">Ordinal_Number</span>\n</mark>\n）としてSARIMAにかけたところ、\n<mark class=\"entity\" style=\"background: #ddd; padding: 0.45em 0.6em; margin: 0 0.25em; line-height: 1; border-radius: 0.35em;\">\n    AIC\n    <span style=\"font-size: 0.8em; font-weight: bold; line-height: 1; border-radius: 0.35em; text-transform: uppercase; vertical-align: middle; margin-left: 0.5rem\">Doctrine_Method_Other</span>\n</mark>\nに従いd=0としたときより精度が出ました。</br>この結果から\n<mark class=\"entity\" style=\"background: #ddd; padding: 0.45em 0.6em; margin: 0 0.25em; line-height: 1; border-radius: 0.35em;\">\n    AIC\n    <span style=\"font-size: 0.8em; font-weight: bold; line-height: 1; border-radius: 0.35em; text-transform: uppercase; vertical-align: middle; margin-left: 0.5rem\">Doctrine_Method_Other</span>\n</mark>\nを使用してもいいが、最終的には自分の目で確かめた方が良いと感じましたが、普通はどのような感覚で\n<mark class=\"entity\" style=\"background: #ddd; padding: 0.45em 0.6em; margin: 0 0.25em; line-height: 1; border-radius: 0.35em;\">\n    AIC\n    <span style=\"font-size: 0.8em; font-weight: bold; line-height: 1; border-radius: 0.35em; text-transform: uppercase; vertical-align: middle; margin-left: 0.5rem\">Doctrine_Method_Other</span>\n</mark>\nを使用しているのでしょうか。</br>時系列分析において単位根取るかどうかは定常か非定常かによって分かれる認識なので、自分の場合は単位根取るかどうかは単位根検定などを使って判断する、もしくはどう考えても非定常になる分布かどうかで決める感じでやってますね。</br></br>AICなどの評価指標はその後のパラメータの採用不採用のチューニングなどに使う想定ですが、\n<mark class=\"entity\" style=\"background: #99c2ff; padding: 0.45em 0.6em; margin: 0 0.25em; line-height: 1; border-radius: 0.35em;\">\n    ARIMA\n    <span style=\"font-size: 0.8em; font-weight: bold; line-height: 1; border-radius: 0.35em; text-transform: uppercase; vertical-align: middle; margin-left: 0.5rem\">Company</span>\n</mark>\nだと\n<mark class=\"entity\" style=\"background: #99c2ff; padding: 0.45em 0.6em; margin: 0 0.25em; line-height: 1; border-radius: 0.35em;\">\n    MA\n    <span style=\"font-size: 0.8em; font-weight: bold; line-height: 1; border-radius: 0.35em; text-transform: uppercase; vertical-align: middle; margin-left: 0.5rem\">Company</span>\n</mark>\nの範囲をどの程度にするかくらいの調整ですかね。</br>そうでした、単位根検定も行いますね。</br>\n<mark class=\"entity\" style=\"background: #99c2ff; padding: 0.45em 0.6em; margin: 0 0.25em; line-height: 1; border-radius: 0.35em;\">\n    MA\n    <span style=\"font-size: 0.8em; font-weight: bold; line-height: 1; border-radius: 0.35em; text-transform: uppercase; vertical-align: middle; margin-left: 0.5rem\">Company</span>\n</mark>\nの範囲を検討するくらいといいますと、\n<mark class=\"entity\" style=\"background: #ddd; padding: 0.45em 0.6em; margin: 0 0.25em; line-height: 1; border-radius: 0.35em;\">\n    AIC\n    <span style=\"font-size: 0.8em; font-weight: bold; line-height: 1; border-radius: 0.35em; text-transform: uppercase; vertical-align: middle; margin-left: 0.5rem\">Doctrine_Method_Other</span>\n</mark>\nがパラメタ全部だしてくれるものの全面的に重要視するわけではないのですね…ありがとうございます:\n<mark class=\"entity\" style=\"background: #ff66a3; padding: 0.45em 0.6em; margin: 0 0.25em; line-height: 1; border-radius: 0.35em;\">\n    exclamation\n    <span style=\"font-size: 0.8em; font-weight: bold; line-height: 1; border-radius: 0.35em; text-transform: uppercase; vertical-align: middle; margin-left: 0.5rem\">Product_Other</span>\n</mark>\n:</br>AICあくまでモデルの良さを表す数ある指標の\n<mark class=\"entity\" style=\"background: #ddd; padding: 0.45em 0.6em; margin: 0 0.25em; line-height: 1; border-radius: 0.35em;\">\n    一つ\n    <span style=\"font-size: 0.8em; font-weight: bold; line-height: 1; border-radius: 0.35em; text-transform: uppercase; vertical-align: middle; margin-left: 0.5rem\">Countx_Other</span>\n</mark>\nですので，データや分析目的に合った指標を選ぶのがいいのではないでしょうか．私は\n<mark class=\"entity\" style=\"background: #ff7f50; padding: 0.45em 0.6em; margin: 0 0.25em; line-height: 1; border-radius: 0.35em;\">\n    BIC\n    <span style=\"font-size: 0.8em; font-weight: bold; line-height: 1; border-radius: 0.35em; text-transform: uppercase; vertical-align: middle; margin-left: 0.5rem\">Sport</span>\n</mark>\nやCVなどと並行して使って，検討しています（予測が目的の場合）．ちなみに，私の偏見ですが，\n<mark class=\"entity\" style=\"background: #ddd; padding: 0.45em 0.6em; margin: 0 0.25em; line-height: 1; border-radius: 0.35em;\">\n    AIC\n    <span style=\"font-size: 0.8em; font-weight: bold; line-height: 1; border-radius: 0.35em; text-transform: uppercase; vertical-align: middle; margin-left: 0.5rem\">Doctrine_Method_Other</span>\n</mark>\nは冗長なモデルを選択してしまう傾向があるので注意して使ってます．</br>確かにBICやCVも並行して使用するのがいいですよね。</br>ACが冗長なモデルを選択してしまう傾向にあるかもしれない点、留意しておきたいと思います。</br>ありがとうございます:\n<mark class=\"entity\" style=\"background: #ff66a3; padding: 0.45em 0.6em; margin: 0 0.25em; line-height: 1; border-radius: 0.35em;\">\n    exclamation\n    <span style=\"font-size: 0.8em; font-weight: bold; line-height: 1; border-radius: 0.35em; text-transform: uppercase; vertical-align: middle; margin-left: 0.5rem\">Product_Other</span>\n</mark>\n:</br>\n<mark class=\"entity\" style=\"background: #ff66a3; padding: 0.45em 0.6em; margin: 0 0.25em; line-height: 1; border-radius: 0.35em;\">\n    bigquery\n    <span style=\"font-size: 0.8em; font-weight: bold; line-height: 1; border-radius: 0.35em; text-transform: uppercase; vertical-align: middle; margin-left: 0.5rem\">Product_Other</span>\n</mark>\nでの SQLの質問です。</br>文字列から今記号などを除いた漢字ひらがなカタカナ数字だけを取得するという作業をしようとしています。なかなかいいサイトがヒットせず、やり方がわかる方は\n<mark class=\"entity\" style=\"background: #ddd; padding: 0.45em 0.6em; margin: 0 0.25em; line-height: 1; border-radius: 0.35em;\">\n    クエリ\n    <span style=\"font-size: 0.8em; font-weight: bold; line-height: 1; border-radius: 0.35em; text-transform: uppercase; vertical-align: middle; margin-left: 0.5rem\">Doctrine_Method_Other</span>\n</mark>\nを教えて欲しいです。</br>ちなみに調べてみた感じで\n<mark class=\"entity\" style=\"background: #3385ff; padding: 0.45em 0.6em; margin: 0 0.25em; line-height: 1; border-radius: 0.35em;\">\n    一番\n    <span style=\"font-size: 0.8em; font-weight: bold; line-height: 1; border-radius: 0.35em; text-transform: uppercase; vertical-align: middle; margin-left: 0.5rem\">Rank</span>\n</mark>\n役に立ちそうなのはこの辺です。</br>&lt;https://memorandom-nishi.hatenablog.jp/entry/2017/03/09/013222&gt;</br>Pytorchで込み入った\n<mark class=\"entity\" style=\"background: #99c2ff; padding: 0.45em 0.6em; margin: 0 0.25em; line-height: 1; border-radius: 0.35em;\">\n    GAN\n    <span style=\"font-size: 0.8em; font-weight: bold; line-height: 1; border-radius: 0.35em; text-transform: uppercase; vertical-align: middle; margin-left: 0.5rem\">Corporation_Other</span>\n</mark>\nのモデリングやっているのですが、サンプルでよくある下記のような書き方をしているのですが、扱うモデル数や処理も多かったりして、ちょっとコードが長くて嫌な感じというか馬鹿っぽいになっているのですが、実装例とかで参考になりそうなサンプルとかご存知の方いますか(\n<mark class=\"entity\" style=\"background: #ff66a3; padding: 0.45em 0.6em; margin: 0 0.25em; line-height: 1; border-radius: 0.35em;\">\n    GAN\n    <span style=\"font-size: 0.8em; font-weight: bold; line-height: 1; border-radius: 0.35em; text-transform: uppercase; vertical-align: middle; margin-left: 0.5rem\">Product_Other</span>\n</mark>\nのサンプルでなくても大丈夫です)？</br>train()と\n<mark class=\"entity\" style=\"background: #ff66a3; padding: 0.45em 0.6em; margin: 0 0.25em; line-height: 1; border-radius: 0.35em;\">\n    test()\n    <span style=\"font-size: 0.8em; font-weight: bold; line-height: 1; border-radius: 0.35em; text-transform: uppercase; vertical-align: middle; margin-left: 0.5rem\">Product_Other</span>\n</mark>\nを関数化して外出ししたいなくらいにざっくりと考えてはいるのですが、あまりそう言った実装している例がぱっと見つからなくて。TensorFlowではこういった実装を見たことがあるのですが。。。</br></br>```for epoch in range(\n<mark class=\"entity\" style=\"background: #ff66a3; padding: 0.45em 0.6em; margin: 0 0.25em; line-height: 1; border-radius: 0.35em;\">\n    num_epoch\n    <span style=\"font-size: 0.8em; font-weight: bold; line-height: 1; border-radius: 0.35em; text-transform: uppercase; vertical-align: middle; margin-left: 0.5rem\">Product_Other</span>\n</mark>\n):</br>    # train</br>    \n<mark class=\"entity\" style=\"background: #99c2ff; padding: 0.45em 0.6em; margin: 0 0.25em; line-height: 1; border-radius: 0.35em;\">\n    model\n    <span style=\"font-size: 0.8em; font-weight: bold; line-height: 1; border-radius: 0.35em; text-transform: uppercase; vertical-align: middle; margin-left: 0.5rem\">Company</span>\n</mark>\n\n<mark class=\"entity\" style=\"background: #3385ff; padding: 0.45em 0.6em; margin: 0 0.25em; line-height: 1; border-radius: 0.35em;\">\n    1.train\n    <span style=\"font-size: 0.8em; font-weight: bold; line-height: 1; border-radius: 0.35em; text-transform: uppercase; vertical-align: middle; margin-left: 0.5rem\">Ordinal_Number</span>\n</mark>\n()</br>    \n<mark class=\"entity\" style=\"background: #99c2ff; padding: 0.45em 0.6em; margin: 0 0.25em; line-height: 1; border-radius: 0.35em;\">\n    model\n    <span style=\"font-size: 0.8em; font-weight: bold; line-height: 1; border-radius: 0.35em; text-transform: uppercase; vertical-align: middle; margin-left: 0.5rem\">Company</span>\n</mark>\n\n<mark class=\"entity\" style=\"background: #ff66a3; padding: 0.45em 0.6em; margin: 0 0.25em; line-height: 1; border-radius: 0.35em;\">\n    2.train\n    <span style=\"font-size: 0.8em; font-weight: bold; line-height: 1; border-radius: 0.35em; text-transform: uppercase; vertical-align: middle; margin-left: 0.5rem\">Product_Other</span>\n</mark>\n()</br>    \n<mark class=\"entity\" style=\"background: #99c2ff; padding: 0.45em 0.6em; margin: 0 0.25em; line-height: 1; border-radius: 0.35em;\">\n    model\n    <span style=\"font-size: 0.8em; font-weight: bold; line-height: 1; border-radius: 0.35em; text-transform: uppercase; vertical-align: middle; margin-left: 0.5rem\">Company</span>\n</mark>\n\n<mark class=\"entity\" style=\"background: #ff66a3; padding: 0.45em 0.6em; margin: 0 0.25em; line-height: 1; border-radius: 0.35em;\">\n    3.train\n    <span style=\"font-size: 0.8em; font-weight: bold; line-height: 1; border-radius: 0.35em; text-transform: uppercase; vertical-align: middle; margin-left: 0.5rem\">Product_Other</span>\n</mark>\n()</br>    \n<mark class=\"entity\" style=\"background: #ff66a3; padding: 0.45em 0.6em; margin: 0 0.25em; line-height: 1; border-radius: 0.35em;\">\n    for vals in\n    <span style=\"font-size: 0.8em; font-weight: bold; line-height: 1; border-radius: 0.35em; text-transform: uppercase; vertical-align: middle; margin-left: 0.5rem\">Product_Other</span>\n</mark>\n torch.utils.data.DataLoader(...):</br>        .....</br></br>    # valid</br>    \n<mark class=\"entity\" style=\"background: #99c2ff; padding: 0.45em 0.6em; margin: 0 0.25em; line-height: 1; border-radius: 0.35em;\">\n    model\n    <span style=\"font-size: 0.8em; font-weight: bold; line-height: 1; border-radius: 0.35em; text-transform: uppercase; vertical-align: middle; margin-left: 0.5rem\">Company</span>\n</mark>\n\n<mark class=\"entity\" style=\"background: #3385ff; padding: 0.45em 0.6em; margin: 0 0.25em; line-height: 1; border-radius: 0.35em;\">\n    1.\n    <span style=\"font-size: 0.8em; font-weight: bold; line-height: 1; border-radius: 0.35em; text-transform: uppercase; vertical-align: middle; margin-left: 0.5rem\">Ordinal_Number</span>\n</mark>\neval()</br>    \n<mark class=\"entity\" style=\"background: #99c2ff; padding: 0.45em 0.6em; margin: 0 0.25em; line-height: 1; border-radius: 0.35em;\">\n    model\n    <span style=\"font-size: 0.8em; font-weight: bold; line-height: 1; border-radius: 0.35em; text-transform: uppercase; vertical-align: middle; margin-left: 0.5rem\">Company</span>\n</mark>\n\n<mark class=\"entity\" style=\"background: #3385ff; padding: 0.45em 0.6em; margin: 0 0.25em; line-height: 1; border-radius: 0.35em;\">\n    2.\n    <span style=\"font-size: 0.8em; font-weight: bold; line-height: 1; border-radius: 0.35em; text-transform: uppercase; vertical-align: middle; margin-left: 0.5rem\">Ordinal_Number</span>\n</mark>\neval()</br>    \n<mark class=\"entity\" style=\"background: #99c2ff; padding: 0.45em 0.6em; margin: 0 0.25em; line-height: 1; border-radius: 0.35em;\">\n    model\n    <span style=\"font-size: 0.8em; font-weight: bold; line-height: 1; border-radius: 0.35em; text-transform: uppercase; vertical-align: middle; margin-left: 0.5rem\">Company</span>\n</mark>\n\n<mark class=\"entity\" style=\"background: #3385ff; padding: 0.45em 0.6em; margin: 0 0.25em; line-height: 1; border-radius: 0.35em;\">\n    3.\n    <span style=\"font-size: 0.8em; font-weight: bold; line-height: 1; border-radius: 0.35em; text-transform: uppercase; vertical-align: middle; margin-left: 0.5rem\">Ordinal_Number</span>\n</mark>\neval()</br>    \n<mark class=\"entity\" style=\"background: #ff66a3; padding: 0.45em 0.6em; margin: 0 0.25em; line-height: 1; border-radius: 0.35em;\">\n    with torch.no_grad()\n    <span style=\"font-size: 0.8em; font-weight: bold; line-height: 1; border-radius: 0.35em; text-transform: uppercase; vertical-align: middle; margin-left: 0.5rem\">Product_Other</span>\n</mark>\n:</br>        for vals in torch.utils.data.DataLoader(...):</br>            ....```</br>そもそもがそういうもんだという気がしないでもないが。。。</br>&lt;https://pytorch.org/tutorials/beginner/dcgan_faces_tutorial.html&gt;</br>&lt;\n<mark class=\"entity\" style=\"background: #ff66a3; padding: 0.45em 0.6em; margin: 0 0.25em; line-height: 1; border-radius: 0.35em;\">\n    @UMBPQ\n    <span style=\"font-size: 0.8em; font-weight: bold; line-height: 1; border-radius: 0.35em; text-transform: uppercase; vertical-align: middle; margin-left: 0.5rem\">Product_Other</span>\n</mark>\n\n<mark class=\"entity\" style=\"background: #3385ff; padding: 0.45em 0.6em; margin: 0 0.25em; line-height: 1; border-radius: 0.35em;\">\n    87PB\n    <span style=\"font-size: 0.8em; font-weight: bold; line-height: 1; border-radius: 0.35em; text-transform: uppercase; vertical-align: middle; margin-left: 0.5rem\">N_Product</span>\n</mark>\n&gt; これ私も求めていたアプリで大変感謝</br>丁度\n<mark class=\"entity\" style=\"background: #ddd; padding: 0.45em 0.6em; margin: 0 0.25em; line-height: 1; border-radius: 0.35em;\">\n    英語\n    <span style=\"font-size: 0.8em; font-weight: bold; line-height: 1; border-radius: 0.35em; text-transform: uppercase; vertical-align: middle; margin-left: 0.5rem\">National_Language</span>\n</mark>\nを教えてる友人がいたのでこのような学習アプリを探していたようなのです</br>お役に立てて良かったです！</div></span>"
     },
     "metadata": {}
    }
   ],
   "source": [
    "#抽出したエンティティの種類に対して色を指定する\n",
    "colors = {\"COUNTRY\":\"#00cc00\", \"CITY\":\"#00cc00\", \"GPE_OTHER\":\"#00cc00\",\"OCCASION_OTHER\":\"#00cc00\",\n",
    "          \"LOCATION\":\"#00cc00\", \"LOCATION_OTHER\":\"#00cc00\",\"DOMESTIC_REGION\":\"#00cc00\",\"PROVINCE\":\"#00cc00\",\n",
    "          \"STATION\":\"#00cc00\", \"CONTINENTAL_REGION\":\"#00cc00\",\"THEATER\":\"#00cc00\",\n",
    "\n",
    "          \"TIME\":\"#adff2f\",\"DATE\":\"#adff2f\",\"DAY_OF_WEEK\":\"#adff2f\",\n",
    "          \"PERIOD_YEAR\":\"#adff2f\", \"PERIOD_MONTH\":\"#adff2f\", \"PERIOD_DAY\":\"#adff2f\",\n",
    "\n",
    "          \"FLORA\":\"#adff99\",\"FLORA_PART\":\"#adff99\",\n",
    "          \"DISH\":\"#ffeb99\",\"FOOD_OTHER\":\"#ffeb99\",\n",
    "\n",
    "          \"AGE\":\"#3385ff\",\"N_PERSON\":\"#3385ff\",\"N_EVENT\":\"#3385ff\",\"N_LOCATION_OTHER\":\"#3385ff\",\"RANK\":\"#3385ff\",\n",
    "          \"N_PRODUCT\":\"#3385ff\",\"\":\"#3385ff\",\"\":\"#3385ff\",\"\":\"#3385ff\",\"MEASUREMENT_OTHER\":\"#3385ff\",\"PERCENT\":\"#3385ff\",\n",
    "          \"N_ORGANIZATION\":\"#3385ff\", \"ORDINAL_NUMBER\":\"#3385ff\", \"N_FACILITY\":\"#3385ff\",\"SPEED\":\"#3385ff\",\n",
    "          \"PHONE_NUMBER\":\"#3385ff\",\n",
    "\n",
    "          \"MONEY\":\"#ffff00\",\n",
    "\n",
    "          \"COMPANY\":\"#99c2ff\", \"SCHOOL\":\"#99c2ff\", \"INTERNATIONAL_ORGANIZATION\":\"#99c2ff\",\n",
    "          \"GOE_OTHER\":\"#99c2ff\", \"SHOW_ORGANIZATION\":\"#99c2ff\",\"CORPORATION_OTHER\":\"#99c2ff\",\n",
    "\n",
    "          \"CLOTHING\":\"#ff66a3\",\n",
    "          \"PRODUCT_OTHER\":\"#ff66a3\",\n",
    "\n",
    "          \"PERSON\":\"#c266ff\",\n",
    "          \"POSITION_VOCATION\":\"#ebccff\",\n",
    "\n",
    "          \"MUSIC\":\"#ff7f50\", \"MOVIE\":\"#ff7f50\", \"GAME\":\"#ff7f50\", \"SPORT\":\"#ff7f50\", \"BOOK\":\"#ff7f50\", \n",
    "          \"BROADCAST_PROGRAM\":\"#ff7f50\", \n",
    "\n",
    "          \"ANIMAL_DISEASE\":\"#cd5c5c\"\n",
    "          }\n",
    "\n",
    "options = {\"colors\": colors}\n",
    "displacy.render(doc, style=\"ent\", options=options, jupyter=True)"
   ]
  },
  {
   "cell_type": "code",
   "execution_count": null,
   "metadata": {},
   "outputs": [],
   "source": []
  }
 ],
 "metadata": {
  "kernelspec": {
   "name": "python3",
   "display_name": "Python 3",
   "language": "python"
  }
 },
 "nbformat": 4,
 "nbformat_minor": 4
}